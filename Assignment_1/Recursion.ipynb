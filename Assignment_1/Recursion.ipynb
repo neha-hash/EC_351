{
  "nbformat": 4,
  "nbformat_minor": 0,
  "metadata": {
    "colab": {
      "name": "Recursion.ipynb",
      "provenance": []
    },
    "kernelspec": {
      "name": "python3",
      "display_name": "Python 3"
    }
  },
  "cells": [
    {
      "cell_type": "code",
      "metadata": {
        "id": "D4HTbvFYqSbJ",
        "colab_type": "code",
        "colab": {}
      },
      "source": [
        "def fib(n):\n",
        "  if n<=1:\n",
        "    return n\n",
        "  return fib(n-1)+fib(n-2)\n",
        "\n"
      ],
      "execution_count": null,
      "outputs": []
    },
    {
      "cell_type": "code",
      "metadata": {
        "id": "xPQRt_Lq8lgA",
        "colab_type": "code",
        "colab": {
          "base_uri": "https://localhost:8080/",
          "height": 101
        },
        "outputId": "5432b634-f4b0-4fab-ec3d-01d823ea89b9"
      },
      "source": [
        "n1=5\n",
        "n2=500\n",
        "for i in range(n1):\n",
        "  print (fib(i))"
      ],
      "execution_count": null,
      "outputs": [
        {
          "output_type": "stream",
          "text": [
            "0\n",
            "1\n",
            "1\n",
            "2\n",
            "3\n"
          ],
          "name": "stdout"
        }
      ]
    },
    {
      "cell_type": "code",
      "metadata": {
        "id": "w6RjKsEHujVm",
        "colab_type": "code",
        "colab": {}
      },
      "source": [
        "import sys"
      ],
      "execution_count": null,
      "outputs": []
    },
    {
      "cell_type": "code",
      "metadata": {
        "id": "rwo8Yimaulrt",
        "colab_type": "code",
        "colab": {
          "base_uri": "https://localhost:8080/",
          "height": 34
        },
        "outputId": "0d38f54a-3b2d-41f8-b875-7b89a573dcfc"
      },
      "source": [
        "sys.getsizeof(fib(5))"
      ],
      "execution_count": null,
      "outputs": [
        {
          "output_type": "execute_result",
          "data": {
            "text/plain": [
              "28"
            ]
          },
          "metadata": {
            "tags": []
          },
          "execution_count": 34
        }
      ]
    },
    {
      "cell_type": "markdown",
      "metadata": {
        "id": "KrPE-H7I84X_",
        "colab_type": "text"
      },
      "source": [
        ""
      ]
    }
  ]
}