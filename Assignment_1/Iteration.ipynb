{
  "nbformat": 4,
  "nbformat_minor": 0,
  "metadata": {
    "colab": {
      "name": "Iteration.ipynb",
      "provenance": []
    },
    "kernelspec": {
      "name": "python3",
      "display_name": "Python 3"
    }
  },
  "cells": [
    {
      "cell_type": "code",
      "metadata": {
        "id": "PILB2Fmz7jyp",
        "colab_type": "code",
        "colab": {
          "base_uri": "https://localhost:8080/",
          "height": 101
        },
        "outputId": "36d5aae9-7c50-4279-fdc9-14d235e2807e"
      },
      "source": [
        "f1=0\n",
        "f2=1\n",
        "n1=5\n",
        "n2=500\n",
        "print (f1)\n",
        "print (f2)\n",
        "for i in range(n1-2):\n",
        "  sum=f1+f2\n",
        "  print (sum)\n",
        "  f1=f2\n",
        "  f2=sum"
      ],
      "execution_count": null,
      "outputs": [
        {
          "output_type": "stream",
          "text": [
            "0\n",
            "1\n",
            "1\n",
            "2\n",
            "3\n"
          ],
          "name": "stdout"
        }
      ]
    },
    {
      "cell_type": "code",
      "metadata": {
        "id": "qro24bJR_hR8",
        "colab_type": "code",
        "colab": {
          "base_uri": "https://localhost:8080/",
          "height": 34
        },
        "outputId": "42a6abc9-9164-4265-d30b-e1ff507e61ea"
      },
      "source": [
        "import sys\n",
        "sys.getsizeof(sum)"
      ],
      "execution_count": null,
      "outputs": [
        {
          "output_type": "execute_result",
          "data": {
            "text/plain": [
              "28"
            ]
          },
          "metadata": {
            "tags": []
          },
          "execution_count": 22
        }
      ]
    }
  ]
}