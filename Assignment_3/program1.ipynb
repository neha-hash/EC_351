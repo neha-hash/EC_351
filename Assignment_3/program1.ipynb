{
  "nbformat": 4,
  "nbformat_minor": 0,
  "metadata": {
    "colab": {
      "name": "program1.ipynb",
      "provenance": []
    },
    "kernelspec": {
      "name": "python3",
      "display_name": "Python 3"
    }
  },
  "cells": [
    {
      "cell_type": "code",
      "metadata": {
        "id": "BZdDyH-JEXHh",
        "outputId": "60b5f33c-414b-4555-bd40-a9e63cbc9c56",
        "colab": {
          "base_uri": "https://localhost:8080/",
          "height": 101
        }
      },
      "source": [
        "#quick sort\n",
        "import time\n",
        "\n",
        "\n",
        "def partition(a,p,r):                   #Function for partitioning the array\n",
        "   i = ( p-1 )\n",
        "   x = a[r] \n",
        "   for j in range(p , r):\n",
        "      if a[j] <= x:\n",
        "         i = i+1\n",
        "         a[i],a[j] = a[j],a[i]\n",
        "   a[i+1],a[r] = a[r],a[i+1]\n",
        "   return ( i+1 )\n",
        "\n",
        "def quickSort(a,p,r):                   # Function for quick sort\n",
        "   if p < r:\n",
        "      q = partition(a,p,r)\n",
        "      quickSort(a, p, q-1)\n",
        "      quickSort(a, q+1, r)\n",
        "      \n",
        "start_time=time.time()\n",
        "a = [2.5, 4.5, 3.0,1.2,6.5,8.9,7.4,6.3]\n",
        "r = len(a)\n",
        "quickSort(a,0,r-1)\n",
        "print (\"Sorted array is:\")\n",
        "for i in range(r):\n",
        "   print (a[i],end=\"   \")\n",
        "end_time=time.time()\n",
        "\n",
        "\n",
        "print('\\n')\n",
        "print('The time taken for execution is(in seconds) - ')\n",
        "print(end_time-start_time)\n",
        "\n",
        "\n",
        "#As the array considers the last element as pivot, the time complexity\n",
        "#will be the worst case O(n^2). The execution time for the given array is \n",
        "#found out using the time module in Python."
      ],
      "execution_count": null,
      "outputs": [
        {
          "output_type": "stream",
          "text": [
            "Sorted array is:\n",
            "1.2   2.5   3.0   4.5   6.3   6.5   7.4   8.9   \n",
            "\n",
            "The time taken for execution is(in seconds) - \n",
            "0.00042128562927246094\n"
          ],
          "name": "stdout"
        }
      ]
    },
    {
      "cell_type": "code",
      "metadata": {
        "id": "BQuC_PWlOtl9",
        "outputId": "7dfe09e1-fd23-4a6f-f21f-95b8e01eaa62",
        "colab": {
          "base_uri": "https://localhost:8080/",
          "height": 101
        }
      },
      "source": [
        "#merge sort\n",
        "\n",
        "import time\n",
        "\n",
        "def merge(a,l,m,r):                         #Function to divide and merge sub-arrays\n",
        "  n1=m-l+1\n",
        "  n2=r-m\n",
        "\n",
        "  L=[0]*(n1)\n",
        "  R=[0]*(n2)\n",
        "\n",
        "  for i in range(0,n1):\n",
        "    L[i]=a[l+i]\n",
        "\n",
        "  for j in range(0,n2):\n",
        "    R[j]=a[m+j+1]\n",
        "\n",
        "  i=0\n",
        "  j=0\n",
        "  k=l \n",
        "\n",
        "  while i<n1 and j<n2:\n",
        "    if L[i]<=R[j]:\n",
        "      a[k]=L[i]\n",
        "      i+=1\n",
        "    else:\n",
        "      a[k]=R[j]\n",
        "      j+=1\n",
        "    k+=1\n",
        "\n",
        "  while i<n1:\n",
        "    a[k]=L[i]\n",
        "    i+=1\n",
        "    k+=1\n",
        "\n",
        "  while j<n2:\n",
        "    a[k]=R[j]\n",
        "    j+=1\n",
        "    k+=1\n",
        "\n",
        "def merge_sort(a,l,r):                     #Function for Merge Sort\n",
        "  if(l<r):\n",
        "    m=(l+(r-1))//2\n",
        "    merge_sort(a, l, m) \n",
        "    merge_sort(a, m+1, r) \n",
        "    merge(a, l, m, r) \n",
        "\n",
        "\n",
        "start_time=time.time()\n",
        "a = [2.5, 4.5, 3.0,1.2,6.5,8.9,7.4,6.3]\n",
        "r = len(a)\n",
        "merge_sort(a,0,r-1)\n",
        "print (\"Sorted array is:\")\n",
        "for i in range(0,r):\n",
        "   print (a[i],end=\"   \")\n",
        "end_time=time.time()\n",
        "print('\\n')\n",
        "print('The time taken for execution is(in seconds) - ')\n",
        "print(end_time-start_time)\n",
        "\n",
        "#The time complexity for Merge sort is always O(n logn).\n",
        "#The execution time for the given array is \n",
        "#found out using the time module in Python."
      ],
      "execution_count": null,
      "outputs": [
        {
          "output_type": "stream",
          "text": [
            "Sorted array is:\n",
            "1.2   2.5   3.0   4.5   6.3   6.5   7.4   8.9   \n",
            "\n",
            "The time taken for execution is(in seconds) - \n",
            "0.0010037422180175781\n"
          ],
          "name": "stdout"
        }
      ]
    },
    {
      "cell_type": "code",
      "metadata": {
        "id": "JtM2Mqzj_GVC"
      },
      "source": [
        ""
      ],
      "execution_count": null,
      "outputs": []
    }
  ]
}