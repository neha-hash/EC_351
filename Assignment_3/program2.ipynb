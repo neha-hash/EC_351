{
  "nbformat": 4,
  "nbformat_minor": 0,
  "metadata": {
    "colab": {
      "name": "program2.ipynb",
      "provenance": []
    },
    "kernelspec": {
      "name": "python3",
      "display_name": "Python 3"
    }
  },
  "cells": [
    {
      "cell_type": "code",
      "metadata": {
        "id": "Vi1_uwh1c_sC",
        "outputId": "e210b8e2-5ca7-41c0-effa-355aadcb10e5",
        "colab": {
          "base_uri": "https://localhost:8080/",
          "height": 101
        }
      },
      "source": [
        "#quick sort\n",
        "import time\n",
        "\n",
        "\n",
        "def partition(a,p,r):                   #Function for partitioning the array\n",
        "   i = ( p-1 )\n",
        "   x = a[r] \n",
        "   for j in range(p , r):\n",
        "      if a[j] <= x:\n",
        "         i = i+1\n",
        "         a[i],a[j] = a[j],a[i]\n",
        "   a[i+1],a[r] = a[r],a[i+1]\n",
        "   return ( i+1 )\n",
        "\n",
        "def quickSort(a,p,r):                    # Function for quick sort\n",
        "   if p < r:\n",
        "      q = partition(a,p,r)\n",
        "      quickSort(a, p, q-1)\n",
        "      quickSort(a, q+1, r)\n",
        "\n",
        "start_time=time.time()\n",
        "a = [5,3,6,3,4,5,4,6,4]\n",
        "r = len(a)\n",
        "quickSort(a,0,r-1)\n",
        "print (\"Sorted array is:\")\n",
        "for i in range(r):\n",
        "   print (a[i],end=\" \")\n",
        "end_time=time.time()\n",
        "\n",
        "\n",
        "print('\\n')\n",
        "print('The time taken for execution is(in seconds) - ')\n",
        "print(end_time-start_time)\n",
        "\n",
        "\n",
        "#As the array considers the last element as pivot, the time complexity\n",
        "#will be the worst case O(n^2). The execution time for the given array is \n",
        "#found out using the time module in Python."
      ],
      "execution_count": null,
      "outputs": [
        {
          "output_type": "stream",
          "text": [
            "Sorted array is:\n",
            "3 3 4 4 4 5 5 6 6 \n",
            "\n",
            "The time taken for execution is(in seconds) - \n",
            "0.0016827583312988281\n"
          ],
          "name": "stdout"
        }
      ]
    },
    {
      "cell_type": "code",
      "metadata": {
        "id": "BQuC_PWlOtl9",
        "outputId": "6a7645be-8486-4542-8c98-fe7534916cec",
        "colab": {
          "base_uri": "https://localhost:8080/",
          "height": 101
        }
      },
      "source": [
        "#merge sort\n",
        "def merge(a,l,m,r):                     #Function to divide and merge sub-arrays\n",
        "  n1=m-l+1\n",
        "  n2=r-m\n",
        "\n",
        "  L=[0]*(n1)\n",
        "  R=[0]*(n2)\n",
        "\n",
        "  for i in range(0,n1):\n",
        "    L[i]=a[l+i]\n",
        "\n",
        "  for j in range(0,n2):\n",
        "    R[j]=a[m+j+1]\n",
        "\n",
        "  i=0\n",
        "  j=0\n",
        "  k=l \n",
        "\n",
        "  while i<n1 and j<n2:\n",
        "    if L[i]<=R[j]:\n",
        "      a[k]=L[i]\n",
        "      i+=1\n",
        "    else:\n",
        "      a[k]=R[j]\n",
        "      j+=1\n",
        "    k+=1\n",
        "\n",
        "  while i<n1:\n",
        "    a[k]=L[i]\n",
        "    i+=1\n",
        "    k+=1\n",
        "\n",
        "  while j<n2:\n",
        "    a[k]=R[j]\n",
        "    j+=1\n",
        "    k+=1\n",
        "\n",
        "def merge_sort(a,l,r):                    #Function for Merge Sort\n",
        "  if(l<r):\n",
        "    m=(l+(r-1))//2\n",
        "    merge_sort(a, l, m) \n",
        "    merge_sort(a, m+1, r) \n",
        "    merge(a, l, m, r) \n",
        "\n",
        "start_time=time.time()\n",
        "a = [5,3,6,3,4,5,4,6,4]\n",
        "r = len(a)\n",
        "merge_sort(a,0,r-1)\n",
        "print (\"Sorted array is:\")\n",
        "for i in range(0,r):\n",
        "   print (a[i],end=\"   \")\n",
        "end_time=time.time()\n",
        "\n",
        "\n",
        "print('\\n')\n",
        "print('The time taken for execution is(in seconds) - ')\n",
        "print(end_time-start_time)\n",
        "\n",
        "#The time complexity for Merge sort is always O(n logn).\n",
        "#The execution time for the given array is \n",
        "#found out using the time module in Python.\n"
      ],
      "execution_count": null,
      "outputs": [
        {
          "output_type": "stream",
          "text": [
            "Sorted array is:\n",
            "3   3   4   4   4   5   5   6   6   \n",
            "\n",
            "The time taken for execution is(in seconds) - \n",
            "0.0005040168762207031\n"
          ],
          "name": "stdout"
        }
      ]
    }
  ]
}